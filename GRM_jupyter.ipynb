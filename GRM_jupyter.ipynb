{
  "cells": [
    {
      "cell_type": "markdown",
      "metadata": {
        "id": "view-in-github"
      },
      "source": [
        "[![Open In Colab](https://colab.research.google.com/assets/colab-badge.svg)](https://colab.research.google.com/github/camenduru/GRM-jupyter/blob/main/GRM_jupyter.ipynb)"
      ]
    },
    {
      "cell_type": "code",
      "execution_count": null,
      "metadata": {
        "id": "VjYy0F2gZIPR"
      },
      "outputs": [],
      "source": [
        "%cd /content\n",
        "!GIT_LFS_SKIP_SMUDGE=1 git clone -b dev https://github.com/camenduru/GRM\n",
        "%cd /content/GRM\n",
        "\n",
        "!apt -y install -qq aria2\n",
        "!aria2c --console-log-level=error -c -x 16 -s 16 -k 1M https://huggingface.co/justimyhxu/GRM/resolve/main/grm_r.pth -d /content/GRM/checkpoints -o grm_r.pth\n",
        "!aria2c --console-log-level=error -c -x 16 -s 16 -k 1M https://huggingface.co/justimyhxu/GRM/resolve/main/grm_u.pth -d /content/GRM/checkpoints -o grm_u.pth\n",
        "!aria2c --console-log-level=error -c -x 16 -s 16 -k 1M https://huggingface.co/justimyhxu/GRM/resolve/main/grm_zero123plus.pth -d /content/GRM/checkpoints -o grm_zero123plus.pth\n",
        "!aria2c --console-log-level=error -c -x 16 -s 16 -k 1M https://huggingface.co/justimyhxu/GRM/resolve/main/instant3d.pth -d /content/GRM/checkpoints -o instant3d.pth\n",
        "\n",
        "!pip install gradio open3d fast-simplification fpsample diffusers trimesh pygltflib xatlas MiniballCpp nvdiffrast pytorch-lightning omegaconf\n",
        "!pip install einops kornia open-clip-torch accelerate plyfile\n",
        "!pip install https://github.com/camenduru/wheels/releases/download/colab/nvdiffrast-0.3.1-py3-none-any.whl\n",
        "!pip install /content/GRM/third_party/diff-gaussian-rasterization\n",
        "# !pip install https://github.com/camenduru/wheels/releases/download/colab2/diff_gaussian_rasterization-0.0.0-cp310-cp310-linux_x86_64.3.whl\n",
        "\n",
        "!python app.py"
      ]
    }
  ],
  "metadata": {
    "accelerator": "GPU",
    "colab": {
      "gpuType": "T4",
      "provenance": []
    },
    "kernelspec": {
      "display_name": "Python 3",
      "name": "python3"
    },
    "language_info": {
      "name": "python"
    }
  },
  "nbformat": 4,
  "nbformat_minor": 0
}
